{
 "cells": [
  {
   "cell_type": "code",
   "execution_count": 1,
   "metadata": {},
   "outputs": [],
   "source": [
    "from transformers import GPT2Tokenizer, GPT2LMHeadModel, AutoTokenizer, AutoModelWithLMHead, BertTokenizer, LongformerTokenizer, LongformerModel\n",
    "import torch, json, random\n",
    "import numpy as np"
   ]
  },
  {
   "cell_type": "code",
   "execution_count": 2,
   "metadata": {},
   "outputs": [],
   "source": [
    "percentage = '20'\n",
    "path = '../data/multiwiz/agent/'+percentage+'p/'\n",
    "db_path = '../createData/multiwoz21/'\n",
    "artificial_data_path = '../artificial_data/'\n",
    "save_path = '../data/multiwiz/agent/' \n",
    "# original ratio is the ratio of generate_artificial_data\n",
    "original_ratio = 1\n",
    "# final_ratio is what we want while training. Original should always be greater\n",
    "final_ratio = 1\n",
    "current_ratio = 1"
   ]
  },
  {
   "cell_type": "code",
   "execution_count": 3,
   "metadata": {},
   "outputs": [],
   "source": [
    "with open(path + 'train_input.json') as f:\n",
    "    contexts = json.load(f)\n",
    "    \n",
    "with open(path + 'train_tgt.json') as f:\n",
    "    responses = json.load(f)\n",
    "    \n",
    "with open(path + 'train_query.json') as f:\n",
    "    queries = json.load(f)\n",
    "    \n",
    "with open(path + 'train_kb.json') as f:\n",
    "    kbs = json.load(f)"
   ]
  },
  {
   "cell_type": "code",
   "execution_count": 4,
   "metadata": {},
   "outputs": [],
   "source": [
    "with open(path + 'valid_input.json') as f:\n",
    "    contexts_valid = json.load(f)\n",
    "    \n",
    "with open(path + 'valid_tgt.json') as f:\n",
    "    responses_valid = json.load(f)\n",
    "    \n",
    "with open(path + 'valid_query.json') as f:\n",
    "    queries_valid = json.load(f)\n",
    "    \n",
    "with open(path + 'valid_kb.json') as f:\n",
    "    kbs_valid = json.load(f)"
   ]
  },
  {
   "cell_type": "code",
   "execution_count": 5,
   "metadata": {},
   "outputs": [],
   "source": [
    "# length = {}\n",
    "# for t in ['restaurant', 'train', 'hotel', 'taxi', 'attraction']:\n",
    "#     length[t] = len(contexts[t])"
   ]
  },
  {
   "cell_type": "code",
   "execution_count": 6,
   "metadata": {},
   "outputs": [],
   "source": [
    "# final_contexts = contexts\n",
    "# final_responses = responses\n",
    "# final_queries = queries\n",
    "# final_kbs = kbs\n",
    "# final_contexts_valid = contexts_valid\n",
    "# final_responses_valid = responses_valid\n",
    "# final_queries_valid = queries_valid\n",
    "# final_kbs_valid = kbs_valid\n"
   ]
  },
  {
   "cell_type": "code",
   "execution_count": 7,
   "metadata": {},
   "outputs": [],
   "source": [
    "# print(len(final_contexts))"
   ]
  },
  {
   "cell_type": "code",
   "execution_count": 8,
   "metadata": {},
   "outputs": [],
   "source": [
    "# final_contexts = contexts['police']\n",
    "# final_contexts.extend(contexts['hospital'])\n",
    "final_contexts = contexts.copy()\n",
    "final_responses=responses.copy()\n",
    "final_queries=queries.copy()\n",
    "\n",
    "# final_kbs = kbs['police']\n",
    "# final_kbs.extend(kbs['hospital'])\n",
    "final_kbs=kbs.copy()\n",
    "# print(final_kbs[-1])"
   ]
  },
  {
   "cell_type": "code",
   "execution_count": 9,
   "metadata": {},
   "outputs": [],
   "source": [
    "# final_contexts_valid = contexts_valid['police']\n",
    "# final_contexts_valid.extend(contexts_valid['hospital'])\n",
    "final_contexts_valid = contexts_valid.copy()\n",
    "\n",
    "final_responses_valid = responses_valid.copy()\n",
    "\n",
    "\n",
    "# final_queries_valid = queries_valid['police']\n",
    "# final_queries_valid.extend(queries_valid['hospital'])\n",
    "final_queries_valid=queries_valid.copy()\n",
    "\n",
    "# final_kbs_valid.extend(kbs_valid['hospital'])\n",
    "final_kbs_valid = kbs_valid.copy()\n"
   ]
  },
  {
   "cell_type": "code",
   "execution_count": 10,
   "metadata": {},
   "outputs": [],
   "source": [
    "d_train= json.load(open(db_path + 'db/train_db.json'))\n",
    "d_rest = json.load(open(db_path + 'db/restaurant_db.json'))\n",
    "d_hotel = json.load(open(db_path + 'db/hotel_db.json'))\n",
    "d_police = json.load(open(db_path + 'db/police_db.json'))\n",
    "d_hosp = json.load(open(db_path + 'db/hospital_db.json'))\n",
    "d_attr = json.load(open(db_path + 'db/attraction_db.json'))\n",
    "d_taxi = [{\n",
    "  \"taxi_colors\" : [\"black\",\"white\",\"red\",\"yellow\",\"blue\",\"grey\"],\n",
    "  \"taxi_types\":  [\"toyota\",\"skoda\",\"bmw\",\"honda\",\"ford\",\"audi\",\"lexus\",\"volvo\",\"volkswagen\",\"tesla\"],\n",
    "  \"taxi_phone\": [\"^[0-9]{10}$\"]\n",
    "}]\n",
    "entity_db_map = {'train':d_train, 'restaurant': d_rest, 'police': d_police, 'hospital': d_hosp, 'attraction': d_attr, 'taxi':d_taxi,'hotel':d_hotel}"
   ]
  },
  {
   "cell_type": "code",
   "execution_count": 11,
   "metadata": {},
   "outputs": [],
   "source": [
    "query_key = {'train' : list(d_train[0].keys()), \n",
    "             'restaurant' : list(d_rest[0].keys()), \n",
    "             'hotel' : list(d_hotel[0].keys()),\n",
    "             'police' : list(d_police[0].keys()),\n",
    "             'hospital' : list(d_hosp[0].keys()),\n",
    "             'attraction' : list(d_attr[0].keys()),\n",
    "             'taxi' : ['taxi_colors', 'taxi_types', 'taxi_phone'],\n",
    "            }"
   ]
  },
  {
   "cell_type": "code",
   "execution_count": 12,
   "metadata": {},
   "outputs": [],
   "source": [
    "def getKB(query, utt_no, domain_key):\n",
    "    not_kb = ['people', 'time', 'stay']\n",
    "    if domain_key != 'train':\n",
    "        not_kb.append('day')\n",
    "    \n",
    "    db = entity_db_map[domain_key]\n",
    "    final_query = {}\n",
    "    for q in query.split(' | ')[1:]:\n",
    "        q = q.split(' = ')\n",
    "        for k in query_key[domain_key]:\n",
    "            if q[0].find(k) != -1 and q[1] != 'not mentioned' and q[1]!='dontcare' and q[1]!='none' and q[1]!='' and q[1]!='*':\n",
    "                final_query[k] = q[1]  \n",
    "    \n",
    "    ret = []\n",
    "    for row in db:\n",
    "        match = True\n",
    "        for k in final_query.keys():\n",
    "            if(k == \"arriveBy\"):\n",
    "                try:\n",
    "                    if int(final_query[k][:2]) > int(row[k][:2]):\n",
    "                        match=True\n",
    "                    elif int(final_query[k][:2]) == int(row[k][:2]) and int(final_query[k][3:]) >= int(row[k][3:]):\n",
    "                        match=True\n",
    "                    else:\n",
    "                        match=False\n",
    "                        break\n",
    "                except: \n",
    "                    match=True\n",
    "            elif(k == \"leaveAt\"):\n",
    "                try:\n",
    "                    if int(row[k][:2]) > int(final_query[k][:2]):\n",
    "                        match=True\n",
    "                    elif int(row[k][:2]) == int(final_query[k][:2]) and int(row[k][3:]) >= int(final_query[k][3:]):\n",
    "                        match=True\n",
    "                    else:\n",
    "                        match=False\n",
    "                        break   \n",
    "                except:\n",
    "                    match=True\n",
    "            elif(row[k]!=final_query[k]):\n",
    "                match=False\n",
    "                break\n",
    "\n",
    "        if(match):\n",
    "            ret.append(row)\n",
    "\n",
    "    if len(ret) == 0:\n",
    "        return  \"[KB] \" + \" Total = 0 [KB]\", {}\n",
    "    else:\n",
    "#         return '[KB] Total : ' + str(len(ret)) + ' ' + str(getStringKB(ret[0])), ret[0]\n",
    "         return \"[KB] \" + \" Total = \" + str(len(ret)) + ' [KB]', ret[0]"
   ]
  },
  {
   "cell_type": "code",
   "execution_count": 13,
   "metadata": {},
   "outputs": [
    {
     "name": "stdout",
     "output_type": "stream",
     "text": [
      "6318\n",
      "6318\n",
      "6318\n",
      "[['[st@rt]', '[User] i need a train to cambridge on saturday.'], ['[st@rt]', '[User] i need a train to cambridge on saturday.', '[Agent] where are you departing from ?', \"[User] i'll be departing from norwich.\"], ['[st@rt]', '[User] i need a train to cambridge on saturday.', '[Agent] where are you departing from ?', \"[User] i'll be departing from norwich.\", '[Agent] there are [value_count] trains leaving [value_place] on [value_day] , is there a specific time you would like to leave ?', '[User] i would like to arrive by 19:00.'], ['[st@rt]', '[User] i need a train to cambridge on saturday.', '[Agent] where are you departing from ?', \"[User] i'll be departing from norwich.\", '[Agent] there are [value_count] trains leaving [value_place] on [value_day] , is there a specific time you would like to leave ?', '[User] i would like to arrive by 19:00.', '[Agent] train [train_id] arrives at [value_time] . would you like me to book this train for you ?', '[User] yes please. i need the travel time.'], ['[st@rt]', '[User] i need a train to cambridge on saturday.', '[Agent] where are you departing from ?', \"[User] i'll be departing from norwich.\", '[Agent] there are [value_count] trains leaving [value_place] on [value_day] , is there a specific time you would like to leave ?', '[User] i would like to arrive by 19:00.', '[Agent] train [train_id] arrives at [value_time] . would you like me to book this train for you ?', '[User] yes please. i need the travel time.', '[Agent] the travel time is [value_count] minutes .', '[User] great. i also need a place to stay.'], ['[st@rt]', '[User] i need a train to cambridge on saturday.', '[Agent] where are you departing from ?', \"[User] i'll be departing from norwich.\", '[Agent] there are [value_count] trains leaving [value_place] on [value_day] , is there a specific time you would like to leave ?', '[User] i would like to arrive by 19:00.', '[Agent] train [train_id] arrives at [value_time] . would you like me to book this train for you ?', '[User] yes please. i need the travel time.', '[Agent] the travel time is [value_count] minutes .', '[User] great. i also need a place to stay.', '[Agent] i have [value_count] hotel -s in the [value_area] . do you have a price range ?', '[User] no, i just need it to be 4 stars and not parking.'], ['[st@rt]', '[User] i need a train to cambridge on saturday.', '[Agent] where are you departing from ?', \"[User] i'll be departing from norwich.\", '[Agent] there are [value_count] trains leaving [value_place] on [value_day] , is there a specific time you would like to leave ?', '[User] i would like to arrive by 19:00.', '[Agent] train [train_id] arrives at [value_time] . would you like me to book this train for you ?', '[User] yes please. i need the travel time.', '[Agent] the travel time is [value_count] minutes .', '[User] great. i also need a place to stay.', '[Agent] i have [value_count] hotel -s in the [value_area] . do you have a price range ?', '[User] no, i just need it to be 4 stars and not parking.', '[Agent] okay , how about the [hotel_name] ?', '[User] that sounds great. can you book it for 5 people for 4 nights starting saturday?'], ['[st@rt]', '[User] i need a train to cambridge on saturday.', '[Agent] where are you departing from ?', \"[User] i'll be departing from norwich.\", '[Agent] there are [value_count] trains leaving [value_place] on [value_day] , is there a specific time you would like to leave ?', '[User] i would like to arrive by 19:00.', '[Agent] train [train_id] arrives at [value_time] . would you like me to book this train for you ?', '[User] yes please. i need the travel time.', '[Agent] the travel time is [value_count] minutes .', '[User] great. i also need a place to stay.', '[Agent] i have [value_count] hotel -s in the [value_area] . do you have a price range ?', '[User] no, i just need it to be 4 stars and not parking.', '[Agent] okay , how about the [hotel_name] ?', '[User] that sounds great. can you book it for 5 people for 4 nights starting saturday?', '[Agent] i have booked that for you . your reference number is [hotel_reference] .', '[User] thank you so much. that is all i needed.']]\n",
      "['[Agent] where are you departing from ?', '[Agent] there are [value_count] trains leaving [value_place] on [value_day] , is there a specific time you would like to leave ?', '[Agent] train [train_id] arrives at [value_time] . would you like me to book this train for you ?', '[Agent] the travel time is [value_count] minutes .', '[Agent] i have [value_count] hotel -s in the [value_area] . do you have a price range ?', '[Agent] okay , how about the [hotel_name] ?', '[Agent] i have booked that for you . your reference number is [hotel_reference] .', '[Agent] you are welcome , enjoy your stay in [value_place] !']\n",
      "['[Q] train | leaveAt = * | destination = cambridge | departure = * | arriveBy = * | day = saturday | people = * [Q]', '[Q] train | leaveAt = * | destination = cambridge | departure = norwich | arriveBy = * | day = saturday | people = * [Q]', '[Q] train | leaveAt = * | destination = cambridge | departure = norwich | arriveBy = 19:00 | day = saturday | people = * [Q]', '[Q] train | leaveAt = * | destination = cambridge | departure = norwich | arriveBy = 19:00 | day = saturday | people = * [Q]', '[Q] hotel | name = * | area = * | parking = * | pricerange = * | stars = * | internet = * | type = * | stay = * | day = * | people = * [Q]', '[Q] hotel | name = * | area = * | parking = * | pricerange = * | stars = 4 | internet = * | type = * | stay = * | day = * | people = * [Q]', '[Q] hotel | name = * | area = * | parking = * | pricerange = * | stars = 4 | internet = * | type = * | stay = 4 | day = saturday | people = 5 [Q]', '[Q] hotel | name = * | area = * | parking = * | pricerange = * | stars = 4 | internet = * | type = * | stay = 4 | day = saturday | people = 5 [Q]']\n",
      "['[KB]  Total = 202 [KB]', '[KB]  Total = 19 [KB]', '[KB]  Total = 19 [KB]', '[KB]  Total = 19 [KB]', '[KB]  Total = 33 [KB]', '[KB]  Total = 21 [KB]', '[KB]  Total = 21 [KB]', '[KB]  Total = 21 [KB]']\n"
     ]
    }
   ],
   "source": [
    "contexts_artificial = []\n",
    "responses_artificial = []\n",
    "queries_artificial = []\n",
    "kbs_artificial = []\n",
    "    \n",
    "with open(artificial_data_path + 'data_all_'+percentage+'p.json') as f:\n",
    "    data = json.load(f)\n",
    "    print(len(data))\n",
    "\n",
    "with open(artificial_data_path + 'query_all_'+percentage+'p.json') as f:\n",
    "    query = json.load(f)\n",
    "    print(len(query))\n",
    "\n",
    "with open(artificial_data_path + 'kb_all_'+percentage+'p.json') as f:\n",
    "    kb = json.load(f)\n",
    "    print(len(kb))\n",
    "    \n",
    "for i in range(len(data)):\n",
    "    conversation = data[i]\n",
    "    conv_context = []\n",
    "    conv_response = []\n",
    "    conv_query = []\n",
    "    conv_kb = []\n",
    "    utt_no = 0\n",
    "    for j in range(2, len(conversation), 2):\n",
    "        conv_context.append(conversation[:j])\n",
    "        conv_response.append(conversation[j])\n",
    "        conv_query.append(query[i][utt_no])\n",
    "        conv_kb.append(kb[i][utt_no])\n",
    "        utt_no+=1\n",
    "\n",
    "    if i == 0:\n",
    "        print(conv_context)\n",
    "        print(conv_response)\n",
    "        print(conv_query)\n",
    "        print(conv_kb)\n",
    "    contexts_artificial.append(conv_context)\n",
    "    responses_artificial.append(conv_response)\n",
    "    queries_artificial.append(conv_query)\n",
    "    kbs_artificial.append(conv_kb)\n",
    "        "
   ]
  },
  {
   "cell_type": "code",
   "execution_count": 14,
   "metadata": {},
   "outputs": [],
   "source": [
    "final_contexts.extend(contexts_artificial)\n",
    "final_responses.extend(responses_artificial)\n",
    "final_queries.extend(queries_artificial)\n",
    "final_kbs.extend(kbs_artificial)"
   ]
  },
  {
   "cell_type": "code",
   "execution_count": 15,
   "metadata": {},
   "outputs": [],
   "source": [
    "save_dir = save_path + \"augmented_mixed_goal_\"+percentage+\"p/\"\n",
    "\n",
    "with open(save_dir + \"train_input.json\", \"w\") as f:\n",
    "    json.dump(final_contexts,f,indent=4)\n",
    "    \n",
    "with open(save_dir + \"train_tgt.json\", \"w\") as f:\n",
    "    json.dump(final_responses,f,indent=4)\n",
    "    \n",
    "with open(save_dir + \"train_kb.json\", \"w\") as f:\n",
    "    json.dump(final_kbs,f,indent=4)\n",
    "    \n",
    "with open(save_dir + \"train_query.json\", \"w\") as f:\n",
    "    json.dump(final_queries,f,indent=4)\n",
    "    \n",
    "with open(save_dir + \"valid_input.json\", \"w\") as f:\n",
    "    json.dump(final_contexts_valid,f,indent=4)\n",
    "    \n",
    "with open(save_dir + \"valid_tgt.json\", \"w\") as f:\n",
    "    json.dump(final_responses_valid,f,indent=4)\n",
    "    \n",
    "with open(save_dir + \"valid_kb.json\", \"w\") as f:\n",
    "    json.dump(final_kbs_valid,f,indent=4)\n",
    "    \n",
    "with open(save_dir + \"valid_query.json\", \"w\") as f:\n",
    "    json.dump(final_queries_valid,f,indent=4)"
   ]
  },
  {
   "cell_type": "code",
   "execution_count": 16,
   "metadata": {},
   "outputs": [
    {
     "data": {
      "text/plain": [
       "(8005, 8005, 8005, 8005)"
      ]
     },
     "execution_count": 16,
     "metadata": {},
     "output_type": "execute_result"
    }
   ],
   "source": [
    "len(final_contexts), len(final_responses), len(final_queries), len(final_kbs)"
   ]
  },
  {
   "cell_type": "code",
   "execution_count": 17,
   "metadata": {},
   "outputs": [
    {
     "data": {
      "text/plain": [
       "([['[st@rt]', '[User] i am looking for a train to cambridge.'],\n",
       "  ['[st@rt]',\n",
       "   '[User] i am looking for a train to cambridge.',\n",
       "   '[Agent] sure , where are you headed ?',\n",
       "   \"[User] i'm going to cambridge on wednesday.\"],\n",
       "  ['[st@rt]',\n",
       "   '[User] i am looking for a train to cambridge.',\n",
       "   '[Agent] sure , where are you headed ?',\n",
       "   \"[User] i'm going to cambridge on wednesday.\",\n",
       "   '[Agent] where will you be departing from ?',\n",
       "   '[User] i will be departing from london kings cross.'],\n",
       "  ['[st@rt]',\n",
       "   '[User] i am looking for a train to cambridge.',\n",
       "   '[Agent] sure , where are you headed ?',\n",
       "   \"[User] i'm going to cambridge on wednesday.\",\n",
       "   '[Agent] where will you be departing from ?',\n",
       "   '[User] i will be departing from london kings cross.',\n",
       "   '[Agent]  [train_id] will leave at [value_time] . would you like me to book it for you ?',\n",
       "   '[User] yes, please book it for me.'],\n",
       "  ['[st@rt]',\n",
       "   '[User] i am looking for a train to cambridge.',\n",
       "   '[Agent] sure , where are you headed ?',\n",
       "   \"[User] i'm going to cambridge on wednesday.\",\n",
       "   '[Agent] where will you be departing from ?',\n",
       "   '[User] i will be departing from london kings cross.',\n",
       "   '[Agent]  [train_id] will leave at [value_time] . would you like me to book it for you ?',\n",
       "   '[User] yes, please book it for me.',\n",
       "   '[Agent] how many tickets do you need ?',\n",
       "   '[User] i need just one ticket.'],\n",
       "  ['[st@rt]',\n",
       "   '[User] i am looking for a train to cambridge.',\n",
       "   '[Agent] sure , where are you headed ?',\n",
       "   \"[User] i'm going to cambridge on wednesday.\",\n",
       "   '[Agent] where will you be departing from ?',\n",
       "   '[User] i will be departing from london kings cross.',\n",
       "   '[Agent]  [train_id] will leave at [value_time] . would you like me to book it for you ?',\n",
       "   '[User] yes, please book it for me.',\n",
       "   '[Agent] how many tickets do you need ?',\n",
       "   '[User] i need just one ticket.',\n",
       "   '[Agent] booking was successful , the total fee is [value_price] gbp payable at the station . reference number is [train_reference] .',\n",
       "   \"[User] thank you so much. i'm all set.\"]],\n",
       " ['[Agent] sure , where are you headed ?',\n",
       "  '[Agent] where will you be departing from ?',\n",
       "  '[Agent]  [train_id] will leave at [value_time] . would you like me to book it for you ?',\n",
       "  '[Agent] how many tickets do you need ?',\n",
       "  '[Agent] booking was successful , the total fee is [value_price] gbp payable at the station . reference number is [train_reference] .',\n",
       "  '[Agent] thank you for contacting [value_place] towninfo [value_area] . have a nice day !'])"
      ]
     },
     "execution_count": 17,
     "metadata": {},
     "output_type": "execute_result"
    }
   ],
   "source": [
    "final_contexts[-1], final_responses[-1]"
   ]
  },
  {
   "cell_type": "code",
   "execution_count": null,
   "metadata": {},
   "outputs": [],
   "source": []
  },
  {
   "cell_type": "code",
   "execution_count": null,
   "metadata": {},
   "outputs": [],
   "source": []
  },
  {
   "cell_type": "code",
   "execution_count": null,
   "metadata": {},
   "outputs": [],
   "source": []
  }
 ],
 "metadata": {
  "kernelspec": {
   "display_name": "Python 3",
   "language": "python",
   "name": "python3"
  },
  "language_info": {
   "codemirror_mode": {
    "name": "ipython",
    "version": 3
   },
   "file_extension": ".py",
   "mimetype": "text/x-python",
   "name": "python",
   "nbconvert_exporter": "python",
   "pygments_lexer": "ipython3",
   "version": "3.8.3"
  }
 },
 "nbformat": 4,
 "nbformat_minor": 4
}

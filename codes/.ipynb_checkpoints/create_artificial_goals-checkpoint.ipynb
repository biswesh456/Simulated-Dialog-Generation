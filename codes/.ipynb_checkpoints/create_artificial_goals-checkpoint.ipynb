{
 "cells": [
  {
   "cell_type": "code",
   "execution_count": 1,
   "metadata": {},
   "outputs": [],
   "source": [
    "from transformers import GPT2Tokenizer, GPT2LMHeadModel, AutoTokenizer, AutoModelWithLMHead, BertTokenizer, LongformerTokenizer, LongformerModel\n",
    "import torch, json, random"
   ]
  },
  {
   "cell_type": "code",
   "execution_count": 2,
   "metadata": {},
   "outputs": [],
   "source": [
    "percentage='20'\n",
    "data_dir = '../data/multiwiz/user/'+percentage+'p/'\n",
    "agent_dir = '../data/multiwiz/agent/'+percentage+'p/'\n",
    "        \n",
    "if percentage == '100':\n",
    "    with open(data_dir+\"train_input.json\") as f:\n",
    "        contexts = json.load(f)\n",
    "\n",
    "    with open(data_dir+\"train_tgt.json\") as f:\n",
    "        responses = json.load(f)\n",
    "\n",
    "    with open(data_dir+\"train_goal.json\") as f:\n",
    "        goals = json.load(f)\n",
    "\n",
    "    with open(agent_dir+\"train_state.json\") as f:\n",
    "        final_state = json.load(f)     \n",
    "else: \n",
    "    with open(data_dir+\"rest_input.json\") as f:\n",
    "        contexts = json.load(f)\n",
    "\n",
    "    with open(data_dir+\"rest_tgt.json\") as f:\n",
    "        responses = json.load(f)\n",
    "\n",
    "    with open(data_dir+\"rest_goal.json\") as f:\n",
    "        goals = json.load(f)\n",
    "\n",
    "    with open(agent_dir+\"rest_state.json\") as f:\n",
    "        final_state = json.load(f)\n",
    "    \n"
   ]
  },
  {
   "cell_type": "code",
   "execution_count": 3,
   "metadata": {},
   "outputs": [],
   "source": [
    "save_path = '../data/multiwiz/user/'+percentage+'p/goals_new.json'\n",
    "save_state_path = '../data/multiwiz/agent/'+percentage+'p/final_state.json'\n",
    "\n",
    "artificial_goal = []\n",
    "for i in range(len(goals)):\n",
    "    artificial_goal.append(goals[i][0])"
   ]
  },
  {
   "cell_type": "code",
   "execution_count": 4,
   "metadata": {},
   "outputs": [],
   "source": [
    "# for i in range(len(goals['attraction'])):\n",
    "#     artificial_goal['attraction'].append(goals['attraction'][i][0])\n",
    "\n",
    "# for i in range(len(goals['train'])):\n",
    "#     artificial_goal['train'].append(goals['train'][i][0])\n",
    "    \n",
    "# for i in range(len(goals['hotel'])):\n",
    "#     artificial_goal['hotel'].append(goals['hotel'][i][0])\n",
    "    \n",
    "# for i in range(len(goals['taxi'])):\n",
    "#     artificial_goal['taxi'].append(goals['taxi'][i][0])\n",
    "    \n",
    "# # for i in range(50):\n",
    "# #     artificial_goal['police'].append(goals['police'][i][0])\n",
    "    \n",
    "# # for i in range(100):\n",
    "# #     artificial_goal['hospital'].append(goals['hospital'][i][0])\n",
    "    \n",
    "# for i in range(len(goals['restaurant'])):\n",
    "#     artificial_goal['restaurant'].append(goals['restaurant'][i][0])"
   ]
  },
  {
   "cell_type": "code",
   "execution_count": 5,
   "metadata": {},
   "outputs": [],
   "source": [
    "with open(\"../createData/multiwoz21/testListFile.json\", 'r') as f:\n",
    "    testList = f.read().split('\\n')"
   ]
  },
  {
   "cell_type": "code",
   "execution_count": 6,
   "metadata": {},
   "outputs": [],
   "source": [
    "with open(save_path, 'w') as f:\n",
    "    json.dump(artificial_goal, f)\n",
    "    \n",
    "with open(save_state_path, 'w') as f:\n",
    "    json.dump(final_state, f)"
   ]
  },
  {
   "cell_type": "code",
   "execution_count": 7,
   "metadata": {},
   "outputs": [],
   "source": [
    "# print(final_state['attraction'][1])"
   ]
  },
  {
   "cell_type": "code",
   "execution_count": 8,
   "metadata": {},
   "outputs": [
    {
     "data": {
      "text/plain": [
       "8228"
      ]
     },
     "execution_count": 8,
     "metadata": {},
     "output_type": "execute_result"
    }
   ],
   "source": [
    "len(final_state)"
   ]
  },
  {
   "cell_type": "code",
   "execution_count": 9,
   "metadata": {},
   "outputs": [
    {
     "data": {
      "text/plain": [
       "{'train': {'info': {'leaveAt': '14:30',\n",
       "   'destination': 'bishops stortford',\n",
       "   'day': 'thursday',\n",
       "   'departure': 'cambridge'},\n",
       "  'reqt': ['duration', 'trainID'],\n",
       "  'fail_info': {}},\n",
       " 'attraction': {'info': {'area': 'centre'},\n",
       "  'reqt': ['phone'],\n",
       "  'fail_info': {}}}"
      ]
     },
     "execution_count": 9,
     "metadata": {},
     "output_type": "execute_result"
    }
   ],
   "source": [
    "final_state[20]"
   ]
  },
  {
   "cell_type": "code",
   "execution_count": null,
   "metadata": {},
   "outputs": [],
   "source": []
  }
 ],
 "metadata": {
  "kernelspec": {
   "display_name": "Python 3",
   "language": "python",
   "name": "python3"
  },
  "language_info": {
   "codemirror_mode": {
    "name": "ipython",
    "version": 3
   },
   "file_extension": ".py",
   "mimetype": "text/x-python",
   "name": "python",
   "nbconvert_exporter": "python",
   "pygments_lexer": "ipython3",
   "version": "3.8.5"
  }
 },
 "nbformat": 4,
 "nbformat_minor": 4
}

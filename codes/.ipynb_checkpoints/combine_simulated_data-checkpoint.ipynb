{
 "cells": [
  {
   "cell_type": "code",
   "execution_count": 1,
   "metadata": {},
   "outputs": [],
   "source": [
    "from transformers import GPT2Tokenizer, GPT2LMHeadModel, AutoTokenizer, AutoModelWithLMHead, BertTokenizer, LongformerTokenizer, LongformerModel\n",
    "import torch, json, random\n",
    "import numpy as np"
   ]
  },
  {
   "cell_type": "code",
   "execution_count": 2,
   "metadata": {},
   "outputs": [],
   "source": [
    "percentage = '20'\n",
    "path = '../data/multiwiz/agent/'+percentage+'p/'\n",
    "db_path = '../createData/multiwoz21/'\n",
    "artificial_data_path = '../artificial_data/'\n",
    "save_path = '../data/multiwiz/agent/' \n",
    "# original ratio is the ratio of generate_artificial_data\n",
    "original_ratio = 1\n",
    "# final_ratio is what we want while training. Original should always be greater\n",
    "final_ratio = 1\n",
    "current_ratio = 1"
   ]
  },
  {
   "cell_type": "code",
   "execution_count": 3,
   "metadata": {},
   "outputs": [],
   "source": [
    "with open(path + 'train_input.json') as f:\n",
    "    contexts = json.load(f)\n",
    "    \n",
    "with open(path + 'train_tgt.json') as f:\n",
    "    responses = json.load(f)\n",
    "    \n",
    "with open(path + 'train_query.json') as f:\n",
    "    queries = json.load(f)\n",
    "    \n",
    "with open(path + 'train_kb.json') as f:\n",
    "    kbs = json.load(f)"
   ]
  },
  {
   "cell_type": "code",
   "execution_count": 4,
   "metadata": {},
   "outputs": [],
   "source": [
    "with open(path + 'valid_input.json') as f:\n",
    "    contexts_valid = json.load(f)\n",
    "    \n",
    "with open(path + 'valid_tgt.json') as f:\n",
    "    responses_valid = json.load(f)\n",
    "    \n",
    "with open(path + 'valid_query.json') as f:\n",
    "    queries_valid = json.load(f)\n",
    "    \n",
    "with open(path + 'valid_kb.json') as f:\n",
    "    kbs_valid = json.load(f)"
   ]
  },
  {
   "cell_type": "code",
   "execution_count": 5,
   "metadata": {},
   "outputs": [],
   "source": [
    "# length = {}\n",
    "# for t in ['restaurant', 'train', 'hotel', 'taxi', 'attraction']:\n",
    "#     length[t] = len(contexts[t])"
   ]
  },
  {
   "cell_type": "code",
   "execution_count": 6,
   "metadata": {},
   "outputs": [],
   "source": [
    "# final_contexts = contexts\n",
    "# final_responses = responses\n",
    "# final_queries = queries\n",
    "# final_kbs = kbs\n",
    "# final_contexts_valid = contexts_valid\n",
    "# final_responses_valid = responses_valid\n",
    "# final_queries_valid = queries_valid\n",
    "# final_kbs_valid = kbs_valid\n"
   ]
  },
  {
   "cell_type": "code",
   "execution_count": 7,
   "metadata": {},
   "outputs": [],
   "source": [
    "# print(len(final_contexts))"
   ]
  },
  {
   "cell_type": "code",
   "execution_count": 8,
   "metadata": {},
   "outputs": [],
   "source": [
    "# final_contexts = contexts['police']\n",
    "# final_contexts.extend(contexts['hospital'])\n",
    "final_contexts = contexts.copy()\n",
    "final_responses=responses.copy()\n",
    "final_queries=queries.copy()\n",
    "\n",
    "# final_kbs = kbs['police']\n",
    "# final_kbs.extend(kbs['hospital'])\n",
    "final_kbs=kbs.copy()\n",
    "# print(final_kbs[-1])"
   ]
  },
  {
   "cell_type": "code",
   "execution_count": 9,
   "metadata": {},
   "outputs": [],
   "source": [
    "# final_contexts_valid = contexts_valid['police']\n",
    "# final_contexts_valid.extend(contexts_valid['hospital'])\n",
    "final_contexts_valid = contexts_valid.copy()\n",
    "\n",
    "final_responses_valid = responses_valid.copy()\n",
    "\n",
    "\n",
    "# final_queries_valid = queries_valid['police']\n",
    "# final_queries_valid.extend(queries_valid['hospital'])\n",
    "final_queries_valid=queries_valid.copy()\n",
    "\n",
    "# final_kbs_valid.extend(kbs_valid['hospital'])\n",
    "final_kbs_valid = kbs_valid.copy()\n"
   ]
  },
  {
   "cell_type": "code",
   "execution_count": 10,
   "metadata": {},
   "outputs": [],
   "source": [
    "d_train= json.load(open(db_path + 'db/train_db.json'))\n",
    "d_rest = json.load(open(db_path + 'db/restaurant_db.json'))\n",
    "d_hotel = json.load(open(db_path + 'db/hotel_db.json'))\n",
    "d_police = json.load(open(db_path + 'db/police_db.json'))\n",
    "d_hosp = json.load(open(db_path + 'db/hospital_db.json'))\n",
    "d_attr = json.load(open(db_path + 'db/attraction_db.json'))\n",
    "d_taxi = [{\n",
    "  \"taxi_colors\" : [\"black\",\"white\",\"red\",\"yellow\",\"blue\",\"grey\"],\n",
    "  \"taxi_types\":  [\"toyota\",\"skoda\",\"bmw\",\"honda\",\"ford\",\"audi\",\"lexus\",\"volvo\",\"volkswagen\",\"tesla\"],\n",
    "  \"taxi_phone\": [\"^[0-9]{10}$\"]\n",
    "}]\n",
    "entity_db_map = {'train':d_train, 'restaurant': d_rest, 'police': d_police, 'hospital': d_hosp, 'attraction': d_attr, 'taxi':d_taxi,'hotel':d_hotel}"
   ]
  },
  {
   "cell_type": "code",
   "execution_count": 11,
   "metadata": {},
   "outputs": [],
   "source": [
    "query_key = {'train' : list(d_train[0].keys()), \n",
    "             'restaurant' : list(d_rest[0].keys()), \n",
    "             'hotel' : list(d_hotel[0].keys()),\n",
    "             'police' : list(d_police[0].keys()),\n",
    "             'hospital' : list(d_hosp[0].keys()),\n",
    "             'attraction' : list(d_attr[0].keys()),\n",
    "             'taxi' : ['taxi_colors', 'taxi_types', 'taxi_phone'],\n",
    "            }"
   ]
  },
  {
   "cell_type": "code",
   "execution_count": 12,
   "metadata": {},
   "outputs": [],
   "source": [
    "def getKB(query, utt_no, domain_key):\n",
    "    not_kb = ['people', 'time', 'stay']\n",
    "    if domain_key != 'train':\n",
    "        not_kb.append('day')\n",
    "    \n",
    "    db = entity_db_map[domain_key]\n",
    "    final_query = {}\n",
    "    for q in query.split(' | ')[1:]:\n",
    "        q = q.split(' = ')\n",
    "        for k in query_key[domain_key]:\n",
    "            if q[0].find(k) != -1 and q[1] != 'not mentioned' and q[1]!='dontcare' and q[1]!='none' and q[1]!='' and q[1]!='*':\n",
    "                final_query[k] = q[1]  \n",
    "    \n",
    "    ret = []\n",
    "    for row in db:\n",
    "        match = True\n",
    "        for k in final_query.keys():\n",
    "            if(k == \"arriveBy\"):\n",
    "                try:\n",
    "                    if int(final_query[k][:2]) > int(row[k][:2]):\n",
    "                        match=True\n",
    "                    elif int(final_query[k][:2]) == int(row[k][:2]) and int(final_query[k][3:]) >= int(row[k][3:]):\n",
    "                        match=True\n",
    "                    else:\n",
    "                        match=False\n",
    "                        break\n",
    "                except: \n",
    "                    match=True\n",
    "            elif(k == \"leaveAt\"):\n",
    "                try:\n",
    "                    if int(row[k][:2]) > int(final_query[k][:2]):\n",
    "                        match=True\n",
    "                    elif int(row[k][:2]) == int(final_query[k][:2]) and int(row[k][3:]) >= int(final_query[k][3:]):\n",
    "                        match=True\n",
    "                    else:\n",
    "                        match=False\n",
    "                        break   \n",
    "                except:\n",
    "                    match=True\n",
    "            elif(row[k]!=final_query[k]):\n",
    "                match=False\n",
    "                break\n",
    "\n",
    "        if(match):\n",
    "            ret.append(row)\n",
    "\n",
    "    if len(ret) == 0:\n",
    "        return  \"[KB] \" + \" Total = 0 [KB]\", {}\n",
    "    else:\n",
    "#         return '[KB] Total : ' + str(len(ret)) + ' ' + str(getStringKB(ret[0])), ret[0]\n",
    "         return \"[KB] \" + \" Total = \" + str(len(ret)) + ' [KB]', ret[0]"
   ]
  },
  {
   "cell_type": "code",
   "execution_count": 13,
   "metadata": {},
   "outputs": [
    {
     "name": "stdout",
     "output_type": "stream",
     "text": [
      "7864\n",
      "7864\n",
      "7864\n",
      "[['[st@rt]', '[User] i am looking for a particular hotel. its name is called acorn guest house.'], ['[st@rt]', '[User] i am looking for a particular hotel. its name is called acorn guest house.', '[Agent] there is a [hotel_name] in the [value_area] , it s [value_pricerange] -ly priced .', '[User] i need it for 8 people and 5 nights starting from thursday.'], ['[st@rt]', '[User] i am looking for a particular hotel. its name is called acorn guest house.', '[Agent] there is a [hotel_name] in the [value_area] , it s [value_pricerange] -ly priced .', '[User] i need it for 8 people and 5 nights starting from thursday.', '[Agent]  [hotel_name] is [value_count] stars and it s [value_pricerange] .', '[User] i also need a restaurant that serves italian food.'], ['[st@rt]', '[User] i am looking for a particular hotel. its name is called acorn guest house.', '[Agent] there is a [hotel_name] in the [value_area] , it s [value_pricerange] -ly priced .', '[User] i need it for 8 people and 5 nights starting from thursday.', '[Agent]  [hotel_name] is [value_count] stars and it s [value_pricerange] .', '[User] i also need a restaurant that serves italian food.', '[Agent]  [restaurant_name] is a great [value_food] restaurant in the [value_area] .', '[User] can you tell me the address and postcode for that?'], ['[st@rt]', '[User] i am looking for a particular hotel. its name is called acorn guest house.', '[Agent] there is a [hotel_name] in the [value_area] , it s [value_pricerange] -ly priced .', '[User] i need it for 8 people and 5 nights starting from thursday.', '[Agent]  [hotel_name] is [value_count] stars and it s [value_pricerange] .', '[User] i also need a restaurant that serves italian food.', '[Agent]  [restaurant_name] is a great [value_food] restaurant in the [value_area] .', '[User] can you tell me the address and postcode for that?', '[Agent]  [restaurant_address] is in the [value_area] and postcode [restaurant_postcode] .', '[User] great! i also need a taxi to commute between the two places.'], ['[st@rt]', '[User] i am looking for a particular hotel. its name is called acorn guest house.', '[Agent] there is a [hotel_name] in the [value_area] , it s [value_pricerange] -ly priced .', '[User] i need it for 8 people and 5 nights starting from thursday.', '[Agent]  [hotel_name] is [value_count] stars and it s [value_pricerange] .', '[User] i also need a restaurant that serves italian food.', '[Agent]  [restaurant_name] is a great [value_food] restaurant in the [value_area] .', '[User] can you tell me the address and postcode for that?', '[Agent]  [restaurant_address] is in the [value_area] and postcode [restaurant_postcode] .', '[User] great! i also need a taxi to commute between the two places.', '[Agent]  [taxi_type] will arrive at [value_time] and travel [value_count] minutes . would you like to book a taxi ?', '[User] yes, i would like to leave the hotel by 16:45.'], ['[st@rt]', '[User] i am looking for a particular hotel. its name is called acorn guest house.', '[Agent] there is a [hotel_name] in the [value_area] , it s [value_pricerange] -ly priced .', '[User] i need it for 8 people and 5 nights starting from thursday.', '[Agent]  [hotel_name] is [value_count] stars and it s [value_pricerange] .', '[User] i also need a restaurant that serves italian food.', '[Agent]  [restaurant_name] is a great [value_food] restaurant in the [value_area] .', '[User] can you tell me the address and postcode for that?', '[Agent]  [restaurant_address] is in the [value_area] and postcode [restaurant_postcode] .', '[User] great! i also need a taxi to commute between the two places.', '[Agent]  [taxi_type] will arrive at [value_time] and travel [value_count] minutes . would you like to book a taxi ?', '[User] yes, i would like to leave the hotel by 16:45.', '[Agent]  [hotel_name] is in the [value_area] and arrives at [value_time] . would you like to book it for me ?', '[User] yes, please book it for 8 people for 5 nights.'], ['[st@rt]', '[User] i am looking for a particular hotel. its name is called acorn guest house.', '[Agent] there is a [hotel_name] in the [value_area] , it s [value_pricerange] -ly priced .', '[User] i need it for 8 people and 5 nights starting from thursday.', '[Agent]  [hotel_name] is [value_count] stars and it s [value_pricerange] .', '[User] i also need a restaurant that serves italian food.', '[Agent]  [restaurant_name] is a great [value_food] restaurant in the [value_area] .', '[User] can you tell me the address and postcode for that?', '[Agent]  [restaurant_address] is in the [value_area] and postcode [restaurant_postcode] .', '[User] great! i also need a taxi to commute between the two places.', '[Agent]  [taxi_type] will arrive at [value_time] and travel [value_count] minutes . would you like to book a taxi ?', '[User] yes, i would like to leave the hotel by 16:45.', '[Agent]  [hotel_name] is in the [value_area] and arrives at [value_time] . would you like to book it for me ?', '[User] yes, please book it for 8 people for 5 nights.', '[Agent] i have booked it for you , reference number is [taxi_reference] . is there anything else i can help you with today ?', '[User] no that will be all i need today. thanks!']]\n",
      "['[Agent] there is a [hotel_name] in the [value_area] , it s [value_pricerange] -ly priced .', '[Agent]  [hotel_name] is [value_count] stars and it s [value_pricerange] .', '[Agent]  [restaurant_name] is a great [value_food] restaurant in the [value_area] .', '[Agent]  [restaurant_address] is in the [value_area] and postcode [restaurant_postcode] .', '[Agent]  [taxi_type] will arrive at [value_time] and travel [value_count] minutes . would you like to book a taxi ?', '[Agent]  [hotel_name] is in the [value_area] and arrives at [value_time] . would you like to book it for me ?', '[Agent] i have booked it for you , reference number is [taxi_reference] . is there anything else i can help you with today ?', '[Agent] you are welcome ! have a wonderful day !']\n",
      "['[Q] hotel | name = * | area = * | parking = * | pricerange = * | stars = * | internet = yes | type = * | stay = * | day = * | people = * [Q]', '[Q] hotel | name = * | area = * | parking = * | pricerange = * | stars = * | internet = yes | type = * | stay = 8 | day = thursday | people = 8 [Q]', '[Q] restaurant | food = * | pricerange = * | name = * | area = * | people = 8 | day = thursday | time = * [Q]', '[Q] restaurant | food = * | pricerange = * | name = * | area = * | people = 8 | day = thursday | time = * [Q]', '[Q] taxi | leaveAt = * | destination = * | departure = * | arriveBy = * [Q]', '[Q] taxi | leaveAt = 16:45 | destination = * | departure = * | arriveBy = * [Q]', '[Q] taxi | leaveAt = 16:45 | destination = * | departure = * | arriveBy = * [Q]', '[Q] taxi | leaveAt = 16:45 | destination = * | departure = * | arriveBy = * [Q]']\n",
      "['[KB]  Total = 32 [KB]', '[KB]  Total = 32 [KB]', '[KB]  Total = 110 [KB]', '[KB]  Total = 110 [KB]', '[KB]  Total = 1 [KB]', '[KB]  Total = 1 [KB]', '[KB]  Total = 1 [KB]', '[KB]  Total = 1 [KB]']\n"
     ]
    }
   ],
   "source": [
    "contexts_artificial = []\n",
    "responses_artificial = []\n",
    "queries_artificial = []\n",
    "kbs_artificial = []\n",
    "    \n",
    "with open(artificial_data_path + 'data_all_'+percentage+'p.json') as f:\n",
    "    data = json.load(f)\n",
    "    print(len(data))\n",
    "\n",
    "with open(artificial_data_path + 'query_all_'+percentage+'p.json') as f:\n",
    "    query = json.load(f)\n",
    "    print(len(query))\n",
    "\n",
    "with open(artificial_data_path + 'kb_all_'+percentage+'p.json') as f:\n",
    "    kb = json.load(f)\n",
    "    print(len(kb))\n",
    "    \n",
    "for i in range(len(data)):\n",
    "    conversation = data[i]\n",
    "    conv_context = []\n",
    "    conv_response = []\n",
    "    conv_query = []\n",
    "    conv_kb = []\n",
    "    utt_no = 0\n",
    "    for j in range(2, len(conversation), 2):\n",
    "        conv_context.append(conversation[:j])\n",
    "        conv_response.append(conversation[j])\n",
    "        conv_query.append(query[i][utt_no])\n",
    "        conv_kb.append(kb[i][utt_no])\n",
    "        utt_no+=1\n",
    "\n",
    "    if i == 0:\n",
    "        print(conv_context)\n",
    "        print(conv_response)\n",
    "        print(conv_query)\n",
    "        print(conv_kb)\n",
    "    contexts_artificial.append(conv_context)\n",
    "    responses_artificial.append(conv_response)\n",
    "    queries_artificial.append(conv_query)\n",
    "    kbs_artificial.append(conv_kb)\n",
    "        "
   ]
  },
  {
   "cell_type": "code",
   "execution_count": 14,
   "metadata": {},
   "outputs": [],
   "source": [
    "final_contexts.extend(contexts_artificial)\n",
    "final_responses.extend(responses_artificial)\n",
    "final_queries.extend(queries_artificial)\n",
    "final_kbs.extend(kbs_artificial)"
   ]
  },
  {
   "cell_type": "code",
   "execution_count": 15,
   "metadata": {},
   "outputs": [],
   "source": [
    "save_dir = save_path + \"augmented_mixed_goal_\"+percentage+\"p/\"\n",
    "\n",
    "with open(save_dir + \"train_input.json\", \"w\") as f:\n",
    "    json.dump(final_contexts,f,indent=4)\n",
    "    \n",
    "with open(save_dir + \"train_tgt.json\", \"w\") as f:\n",
    "    json.dump(final_responses,f,indent=4)\n",
    "    \n",
    "with open(save_dir + \"train_kb.json\", \"w\") as f:\n",
    "    json.dump(final_kbs,f,indent=4)\n",
    "    \n",
    "with open(save_dir + \"train_query.json\", \"w\") as f:\n",
    "    json.dump(final_queries,f,indent=4)\n",
    "    \n",
    "with open(save_dir + \"valid_input.json\", \"w\") as f:\n",
    "    json.dump(final_contexts_valid,f,indent=4)\n",
    "    \n",
    "with open(save_dir + \"valid_tgt.json\", \"w\") as f:\n",
    "    json.dump(final_responses_valid,f,indent=4)\n",
    "    \n",
    "with open(save_dir + \"valid_kb.json\", \"w\") as f:\n",
    "    json.dump(final_kbs_valid,f,indent=4)\n",
    "    \n",
    "with open(save_dir + \"valid_query.json\", \"w\") as f:\n",
    "    json.dump(final_queries_valid,f,indent=4)"
   ]
  },
  {
   "cell_type": "code",
   "execution_count": 16,
   "metadata": {},
   "outputs": [
    {
     "data": {
      "text/plain": [
       "(8074, 8074, 8074, 8074)"
      ]
     },
     "execution_count": 16,
     "metadata": {},
     "output_type": "execute_result"
    }
   ],
   "source": [
    "len(final_contexts), len(final_responses), len(final_queries), len(final_kbs)"
   ]
  },
  {
   "cell_type": "code",
   "execution_count": 17,
   "metadata": {},
   "outputs": [
    {
     "data": {
      "text/plain": [
       "([['[st@rt]', \"[User] i'm looking for a train that leaves on wednesday.\"],\n",
       "  ['[st@rt]',\n",
       "   \"[User] i'm looking for a train that leaves on wednesday.\",\n",
       "   '[Agent] where will you be departing from and what time would you like to arrive by ?',\n",
       "   '[User] i would like to leave after 21:15.'],\n",
       "  ['[st@rt]',\n",
       "   \"[User] i'm looking for a train that leaves on wednesday.\",\n",
       "   '[Agent] where will you be departing from and what time would you like to arrive by ?',\n",
       "   '[User] i would like to leave after 21:15.',\n",
       "   '[Agent]  [train_id] leaves at [value_time] and arrives in [value_place] at [value_time] . would you like to book a ticket ?',\n",
       "   '[User] yes, please book a ticket for wednesday.'],\n",
       "  ['[st@rt]',\n",
       "   \"[User] i'm looking for a train that leaves on wednesday.\",\n",
       "   '[Agent] where will you be departing from and what time would you like to arrive by ?',\n",
       "   '[User] i would like to leave after 21:15.',\n",
       "   '[Agent]  [train_id] leaves at [value_time] and arrives in [value_place] at [value_time] . would you like to book a ticket ?',\n",
       "   '[User] yes, please book a ticket for wednesday.',\n",
       "   '[Agent] how many tickets do you need ?',\n",
       "   '[User] i need 6 tickets.']],\n",
       " ['[Agent] where will you be departing from and what time would you like to arrive by ?',\n",
       "  '[Agent]  [train_id] leaves at [value_time] and arrives in [value_place] at [value_time] . would you like to book a ticket ?',\n",
       "  '[Agent] how many tickets do you need ?',\n",
       "  '[Agent]  [value_count] tickets for [value_count] are available for you today . your reference number is [train_reference] .'])"
      ]
     },
     "execution_count": 17,
     "metadata": {},
     "output_type": "execute_result"
    }
   ],
   "source": [
    "final_contexts[-1], final_responses[-1]"
   ]
  },
  {
   "cell_type": "code",
   "execution_count": null,
   "metadata": {},
   "outputs": [],
   "source": []
  },
  {
   "cell_type": "code",
   "execution_count": null,
   "metadata": {},
   "outputs": [],
   "source": []
  },
  {
   "cell_type": "code",
   "execution_count": null,
   "metadata": {},
   "outputs": [],
   "source": []
  }
 ],
 "metadata": {
  "kernelspec": {
   "display_name": "Python 3",
   "language": "python",
   "name": "python3"
  },
  "language_info": {
   "codemirror_mode": {
    "name": "ipython",
    "version": 3
   },
   "file_extension": ".py",
   "mimetype": "text/x-python",
   "name": "python",
   "nbconvert_exporter": "python",
   "pygments_lexer": "ipython3",
   "version": "3.8.5"
  }
 },
 "nbformat": 4,
 "nbformat_minor": 4
}
